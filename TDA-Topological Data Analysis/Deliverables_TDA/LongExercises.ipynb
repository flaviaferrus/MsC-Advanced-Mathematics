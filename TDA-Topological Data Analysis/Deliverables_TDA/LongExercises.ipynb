{
 "cells": [
  {
   "cell_type": "markdown",
   "id": "448abd7e-a38c-4612-bf57-3f6a0fcf7dec",
   "metadata": {},
   "source": [
    "# Delivery 2"
   ]
  },
  {
   "cell_type": "code",
   "execution_count": 1,
   "id": "86289a20-b719-4018-9f13-47305b82eed5",
   "metadata": {},
   "outputs": [
    {
     "name": "stdout",
     "output_type": "stream",
     "text": [
      "Collecting simplicial\n",
      "  Downloading simplicial-1.0.1.tar.gz (60 kB)\n",
      "\u001b[K     |████████████████████████████████| 60 kB 2.4 MB/s eta 0:00:011\n",
      "\u001b[?25hRequirement already satisfied: numpy in /Users/flaviaferrusmarimon/anaconda3/lib/python3.9/site-packages (from simplicial) (1.23.3)\n",
      "Requirement already satisfied: matplotlib in /Users/flaviaferrusmarimon/anaconda3/lib/python3.9/site-packages (from simplicial) (3.3.3)\n",
      "Requirement already satisfied: python-dateutil>=2.1 in /Users/flaviaferrusmarimon/anaconda3/lib/python3.9/site-packages (from matplotlib->simplicial) (2.8.1)\n",
      "Requirement already satisfied: pyparsing!=2.0.4,!=2.1.2,!=2.1.6,>=2.0.3 in /Users/flaviaferrusmarimon/anaconda3/lib/python3.9/site-packages (from matplotlib->simplicial) (2.4.7)\n",
      "Requirement already satisfied: cycler>=0.10 in /Users/flaviaferrusmarimon/anaconda3/lib/python3.9/site-packages (from matplotlib->simplicial) (0.10.0)\n",
      "Requirement already satisfied: kiwisolver>=1.0.1 in /Users/flaviaferrusmarimon/anaconda3/lib/python3.9/site-packages (from matplotlib->simplicial) (1.3.1)\n",
      "Requirement already satisfied: pillow>=6.2.0 in /Users/flaviaferrusmarimon/anaconda3/lib/python3.9/site-packages (from matplotlib->simplicial) (8.4.0)\n",
      "Requirement already satisfied: six in /Users/flaviaferrusmarimon/anaconda3/lib/python3.9/site-packages (from cycler>=0.10->matplotlib->simplicial) (1.15.0)\n",
      "Building wheels for collected packages: simplicial\n",
      "  Building wheel for simplicial (setup.py) ... \u001b[?25ldone\n",
      "\u001b[?25h  Created wheel for simplicial: filename=simplicial-1.0.1-py2.py3-none-any.whl size=55183 sha256=4f2747cf4495ff281e0c28594ce0a172802de583e27e9456e9e2233c750fafa3\n",
      "  Stored in directory: /Users/flaviaferrusmarimon/Library/Caches/pip/wheels/6e/95/78/8bb093452c3b3a28006f20d921f08ace5cf709f25358e9d4d2\n",
      "Successfully built simplicial\n",
      "Installing collected packages: simplicial\n",
      "Successfully installed simplicial-1.0.1\n",
      "Note: you may need to restart the kernel to use updated packages.\n"
     ]
    }
   ],
   "source": [
    "pip install simplicial"
   ]
  },
  {
   "cell_type": "code",
   "execution_count": 1,
   "id": "8f1aeeb4-45b9-403a-86a9-00c1b2ef630e",
   "metadata": {},
   "outputs": [],
   "source": [
    "from simplicial import *"
   ]
  },
  {
   "cell_type": "code",
   "execution_count": 10,
   "id": "a834fcd3-abef-4ca5-aa48-c78e84bb0b27",
   "metadata": {},
   "outputs": [],
   "source": [
    "c = SimplicialComplex()"
   ]
  },
  {
   "cell_type": "code",
   "execution_count": 11,
   "id": "3e5efc6f-ec54-448c-9f9a-0b5ed89cf103",
   "metadata": {},
   "outputs": [
    {
     "data": {
      "text/plain": [
       "<simplicial.base.SimplicialComplex at 0x7fe43db882e0>"
      ]
     },
     "execution_count": 11,
     "metadata": {},
     "output_type": "execute_result"
    }
   ],
   "source": [
    "c"
   ]
  },
  {
   "cell_type": "code",
   "execution_count": 12,
   "id": "22a30977-64e6-47d0-8208-479b45f74398",
   "metadata": {},
   "outputs": [],
   "source": [
    "# add a simplex with a generated name\n",
    "s1 = c.addSimplex()\n",
    "\n",
    "# add simplices whose names we want to specify\n",
    "s2 = c.addSimplex(id = 2)\n",
    "s3 = c.addSimplex(id = 3)\n",
    "l23 = c.addSimplex(fs = [ 2, 3 ])\n",
    "l12 = c.addSimplex(fs = [ s1, 2 ])\n",
    "l31 = c.addSimplex(fs = [ s1, 3 ])\n",
    "\n",
    "# create the triangle\n",
    "t123 = c.addSimplex(fs = [l12, l23, l31])"
   ]
  },
  {
   "cell_type": "code",
   "execution_count": 13,
   "id": "21246d88-8629-4100-807f-96951955e1d3",
   "metadata": {},
   "outputs": [
    {
     "data": {
      "text/plain": [
       "<simplicial.base.SimplicialComplex at 0x7fe43db882e0>"
      ]
     },
     "execution_count": 13,
     "metadata": {},
     "output_type": "execute_result"
    }
   ],
   "source": [
    "c"
   ]
  },
  {
   "cell_type": "code",
   "execution_count": 14,
   "id": "62d934a8-5d90-4084-8a18-c9323129e92a",
   "metadata": {},
   "outputs": [
    {
     "data": {
      "text/plain": [
       "'2d4'"
      ]
     },
     "execution_count": 14,
     "metadata": {},
     "output_type": "execute_result"
    }
   ],
   "source": [
    "t123"
   ]
  },
  {
   "cell_type": "code",
   "execution_count": 17,
   "id": "6f542df2-bb51-4a31-b390-d7c7c855cd16",
   "metadata": {},
   "outputs": [],
   "source": [
    "#a = SimplicialComplex([[1], [3, 7]])"
   ]
  },
  {
   "cell_type": "code",
   "execution_count": 15,
   "id": "64284224-d58b-4afa-93b4-2e010128a78a",
   "metadata": {},
   "outputs": [
    {
     "ename": "AttributeError",
     "evalue": "'list' object has no attribute 'setComplex'",
     "output_type": "error",
     "traceback": [
      "\u001b[0;31m---------------------------------------------------------------------------\u001b[0m",
      "\u001b[0;31mAttributeError\u001b[0m                            Traceback (most recent call last)",
      "\u001b[0;32m/var/folders/df/4599m83s2vj4j1_h__gx7kqw0000gn/T/ipykernel_2989/2181229907.py\u001b[0m in \u001b[0;36m<module>\u001b[0;34m\u001b[0m\n\u001b[0;32m----> 1\u001b[0;31m K = SimplicialComplex([[1,2,4], [1,2, 5], [1,3,5], \n\u001b[0m\u001b[1;32m      2\u001b[0m                       \u001b[0;34m[\u001b[0m\u001b[0;36m1\u001b[0m\u001b[0;34m,\u001b[0m\u001b[0;36m3\u001b[0m\u001b[0;34m,\u001b[0m\u001b[0;36m6\u001b[0m\u001b[0;34m]\u001b[0m\u001b[0;34m,\u001b[0m \u001b[0;34m[\u001b[0m\u001b[0;36m1\u001b[0m\u001b[0;34m,\u001b[0m\u001b[0;36m4\u001b[0m\u001b[0;34m,\u001b[0m\u001b[0;36m6\u001b[0m\u001b[0;34m]\u001b[0m\u001b[0;34m,\u001b[0m \u001b[0;34m[\u001b[0m\u001b[0;36m2\u001b[0m\u001b[0;34m,\u001b[0m\u001b[0;36m3\u001b[0m\u001b[0;34m,\u001b[0m\u001b[0;36m4\u001b[0m\u001b[0;34m]\u001b[0m\u001b[0;34m,\u001b[0m\u001b[0;34m\u001b[0m\u001b[0;34m\u001b[0m\u001b[0m\n\u001b[1;32m      3\u001b[0m                       [2,3,6], [2,5,6], [4,5,6]])\n",
      "\u001b[0;32m~/anaconda3/lib/python3.9/site-packages/simplicial/base.py\u001b[0m in \u001b[0;36m__init__\u001b[0;34m(self, rep)\u001b[0m\n\u001b[1;32m     52\u001b[0m             \u001b[0mrep\u001b[0m \u001b[0;34m=\u001b[0m \u001b[0mReferenceRepresentation\u001b[0m\u001b[0;34m(\u001b[0m\u001b[0;34m)\u001b[0m\u001b[0;34m\u001b[0m\u001b[0;34m\u001b[0m\u001b[0m\n\u001b[1;32m     53\u001b[0m         \u001b[0mself\u001b[0m\u001b[0;34m.\u001b[0m\u001b[0m_rep\u001b[0m \u001b[0;34m=\u001b[0m \u001b[0mrep\u001b[0m        \u001b[0;31m# representation\u001b[0m\u001b[0;34m\u001b[0m\u001b[0;34m\u001b[0m\u001b[0m\n\u001b[0;32m---> 54\u001b[0;31m         \u001b[0mself\u001b[0m\u001b[0;34m.\u001b[0m\u001b[0m_rep\u001b[0m\u001b[0;34m.\u001b[0m\u001b[0msetComplex\u001b[0m\u001b[0;34m(\u001b[0m\u001b[0mself\u001b[0m\u001b[0;34m)\u001b[0m\u001b[0;34m\u001b[0m\u001b[0;34m\u001b[0m\u001b[0m\n\u001b[0m\u001b[1;32m     55\u001b[0m \u001b[0;34m\u001b[0m\u001b[0m\n\u001b[1;32m     56\u001b[0m     \u001b[0;32mdef\u001b[0m \u001b[0mrepresentation\u001b[0m\u001b[0;34m(\u001b[0m\u001b[0mself\u001b[0m\u001b[0;34m)\u001b[0m \u001b[0;34m->\u001b[0m \u001b[0mRepresentation\u001b[0m\u001b[0;34m:\u001b[0m\u001b[0;34m\u001b[0m\u001b[0;34m\u001b[0m\u001b[0m\n",
      "\u001b[0;31mAttributeError\u001b[0m: 'list' object has no attribute 'setComplex'"
     ]
    }
   ],
   "source": [
    "K = SimplicialComplex([[1,2,4], [1,2, 5], [1,3,5], \n",
    "                      [1,3,6], [1,4,6], [2,3,4], \n",
    "                      [2,3,6], [2,5,6], [4,5,6]])"
   ]
  },
  {
   "cell_type": "code",
   "execution_count": null,
   "id": "dab7c875-0621-4fc0-a43a-8e6cd2f16c40",
   "metadata": {},
   "outputs": [],
   "source": []
  }
 ],
 "metadata": {
  "kernelspec": {
   "display_name": "Python 3 (ipykernel)",
   "language": "python",
   "name": "python3"
  },
  "language_info": {
   "codemirror_mode": {
    "name": "ipython",
    "version": 3
   },
   "file_extension": ".py",
   "mimetype": "text/x-python",
   "name": "python",
   "nbconvert_exporter": "python",
   "pygments_lexer": "ipython3",
   "version": "3.9.7"
  }
 },
 "nbformat": 4,
 "nbformat_minor": 5
}
